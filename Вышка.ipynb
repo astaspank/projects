{
 "cells": [
  {
   "cell_type": "markdown",
   "id": "da47c904",
   "metadata": {},
   "source": [
    "# Задание 1"
   ]
  },
  {
   "cell_type": "markdown",
   "id": "8689fb4c",
   "metadata": {},
   "source": [
    "Часть 1. Работа с данными\n",
    "\n",
    "Входные данные для тестового задания можно найти в таблице\n",
    "\n",
    "**Ваша задача - подготовить и обработать исходные данных так, чтобы их можно было использовать во второй части задания**\n",
    "\n",
    "**Требования к выходным данным:**\n",
    "     \n",
    "     1) В выходной таблице должны остаться только следующие колонки:\n",
    "     area, cluster, cluster_name, keyword, x, y, count, color, где\n",
    "     area - область,\n",
    "     cluster - номер кластера,\n",
    "     cluster_name - название кластера,\n",
    "     keyword - словосочетание,\n",
    "     count - показатель,\n",
    "     x и y - координаты для диаграммы рассеяния,\n",
    "     color - цвет точки на карте для данного словосочетания\n",
    "\n",
    "    2) Колонку color нужно добавить самостоятельно - цвета вы можете взять из цветовых палеток Tableu или по своему усмотрению.\n",
    "    \n",
    "    3) Цвет задается каждому словосочетанию согласно следующими правилам:\n",
    "    - внутри одной области цвета словосочетаний в одном кластере должны быть одинаковые, в разных - отличаться (например, у \"Кластер 1\" все слова будут окрашены в красный, у \"Кластер 2\" - в зеленый и т.д.)\n",
    "    - цвета кластеров в разных областях могут повторяться\n",
    "    - цвета кластеров в разных областях с разным номером не имеют никакой связи (у одной области [area] слова из \"Кластер 1\" могут быть красного цвета, в другой области у слов из \"Кластер 1\" может быть другой цвет)\n",
    "        \n",
    "        4) Не должно быть дубликатов слов в одной и той же области (area), но словосочетание может повторяться из area в area\n",
    "        \n",
    "        5) Колонки должны называться именно так, как указано в п.1\n",
    "        \n",
    "        6) Сортировка должна происходить по колонкам area, cluster, cluster_name, count (по count значения сортируются в убывающем порядке, в остальных - по возрастающему).\n",
    "        \n",
    "        7) Количество переданных в исходных ключевых слов должно совпадать с количество слов в выходных данных (за исключением дублированных строк или строк с пустыми\\неформатными значениями по ключевым показателям [перечислены в п. 1], если такие имеются).\n",
    "        \n",
    "        8) Никакие другие особенности оформления не должны учитываться при обработке данных (заливка и пр.)\n",
    "        \n",
    "        9) Выходные данные должны быть аккуратно оформлены (заголовки закреплены, включен фильтр)\n",
    "    \n",
    "\n",
    "Формат представления выходных данных: google spreadsheet-таблица.\n",
    "\n",
    "Выполнение данной работы желательно с помощью библиотеки pandas (Python)\n"
   ]
  },
  {
   "cell_type": "markdown",
   "id": "3e9a2cc5",
   "metadata": {},
   "source": [
    "Импортируем необходимые библиотеки для работы"
   ]
  },
  {
   "cell_type": "code",
   "execution_count": null,
   "id": "773eecab",
   "metadata": {},
   "outputs": [],
   "source": [
    "!pip install seaborn"
   ]
  },
  {
   "cell_type": "code",
   "execution_count": null,
   "id": "cc358ada",
   "metadata": {},
   "outputs": [],
   "source": [
    "pip install adjustText"
   ]
  },
  {
   "cell_type": "code",
   "execution_count": null,
   "id": "9bc9c020",
   "metadata": {},
   "outputs": [],
   "source": [
    "import pandas as pd\n",
    "import numpy as np\n",
    "import seaborn as sns\n",
    "import matplotlib.pyplot as plt\n",
    "import plotly.express as px\n",
    "from scipy import stats as st\n",
    "import matplotlib.patches as mpatches\n",
    "from adjustText import adjust_text"
   ]
  },
  {
   "cell_type": "markdown",
   "id": "ea6d8959",
   "metadata": {},
   "source": [
    "Выгрузим данные"
   ]
  },
  {
   "cell_type": "code",
   "execution_count": null,
   "id": "3b9b9271",
   "metadata": {},
   "outputs": [],
   "source": [
    "data = pd.read_csv('C:\\\\Users\\\\STAS\\\\Downloads\\\\tz_data.csv')\n",
    "data.info()"
   ]
  },
  {
   "cell_type": "markdown",
   "id": "5d8d3cef",
   "metadata": {},
   "source": [
    "8 колонок. Типы данных - object и float64\n",
    "\n",
    "Нам нужны только колонки area, cluster, cluster_name, keyword, x, y, count, color\n",
    "\n",
    "Удалим колонку good (1) и выведем первые 20 строк таблицы"
   ]
  },
  {
   "cell_type": "code",
   "execution_count": null,
   "id": "c4c48046",
   "metadata": {},
   "outputs": [],
   "source": [
    "data = data.drop('good (1)', axis=1)"
   ]
  },
  {
   "cell_type": "code",
   "execution_count": null,
   "id": "52f8ef4a",
   "metadata": {},
   "outputs": [],
   "source": [
    "display(data.head(20))"
   ]
  },
  {
   "cell_type": "markdown",
   "id": "8c0576c3",
   "metadata": {},
   "source": [
    "Отлично - теперь у нас нет столбца good (1).\n",
    "\n",
    "Дальше нам нужно:\n",
    "\n",
    "- перевести count и cluster в int, y - в float\n",
    "\n",
    "- добавить столбец color"
   ]
  },
  {
   "cell_type": "markdown",
   "id": "f7e2b079",
   "metadata": {},
   "source": [
    "Чтобы приступить к дальнейшей работе с данными, нужно проверить данные на предмет дубликатов и пропусков, при наличии которых избавиться от них"
   ]
  },
  {
   "cell_type": "markdown",
   "id": "aab81760",
   "metadata": {},
   "source": [
    "Проверим данные на предмет дубликатов и удалим их"
   ]
  },
  {
   "cell_type": "code",
   "execution_count": null,
   "id": "1cf15ed1",
   "metadata": {},
   "outputs": [],
   "source": [
    "data.duplicated().sum()"
   ]
  },
  {
   "cell_type": "code",
   "execution_count": null,
   "id": "2616cf48",
   "metadata": {},
   "outputs": [],
   "source": [
    "data.drop_duplicates(inplace=True)"
   ]
  },
  {
   "cell_type": "markdown",
   "id": "5678007b",
   "metadata": {},
   "source": [
    "Дубликатов не было "
   ]
  },
  {
   "cell_type": "markdown",
   "id": "e5516952",
   "metadata": {},
   "source": [
    "Проверим на предмет пропусков"
   ]
  },
  {
   "cell_type": "code",
   "execution_count": null,
   "id": "38c84674",
   "metadata": {},
   "outputs": [],
   "source": [
    "display(data.isnull().sum())"
   ]
  },
  {
   "cell_type": "markdown",
   "id": "8ad45238",
   "metadata": {},
   "source": [
    "Пропусков мало, их можно удалить"
   ]
  },
  {
   "cell_type": "code",
   "execution_count": null,
   "id": "a412765b",
   "metadata": {},
   "outputs": [],
   "source": [
    "data.dropna(inplace=True)"
   ]
  },
  {
   "cell_type": "code",
   "execution_count": null,
   "id": "4fe34027",
   "metadata": {},
   "outputs": [],
   "source": [
    "data.info()"
   ]
  },
  {
   "cell_type": "markdown",
   "id": "b0cbbe46",
   "metadata": {},
   "source": [
    "Мы удалили пропуски.\n",
    "Теперь удалим нечисловые значения из столбцов, которые хотим перевести в int\n",
    "\n",
    "Создадим список этих столбцов "
   ]
  },
  {
   "cell_type": "code",
   "execution_count": null,
   "id": "5793897b",
   "metadata": {},
   "outputs": [],
   "source": [
    "columns_to_convert = ['count', 'y', 'cluster']"
   ]
  },
  {
   "cell_type": "markdown",
   "id": "026ac6f9",
   "metadata": {},
   "source": [
    "Теперь проверим наличие нечисловых значений в каждом из них"
   ]
  },
  {
   "cell_type": "code",
   "execution_count": null,
   "id": "382a22a1",
   "metadata": {},
   "outputs": [],
   "source": [
    "def is_numeric(value):\n",
    "    try:\n",
    "        float(value)\n",
    "        return True\n",
    "    except ValueError:\n",
    "        return False"
   ]
  },
  {
   "cell_type": "markdown",
   "id": "567f9ec0",
   "metadata": {},
   "source": [
    "Применим эту функцию к каждому столбцу, чтобы получить строки с нечисловыми значениями"
   ]
  },
  {
   "cell_type": "code",
   "execution_count": null,
   "id": "da4ca16e",
   "metadata": {},
   "outputs": [],
   "source": [
    "for col in columns_to_convert:\n",
    "    non_numeric_rows = data[~data[col].apply(is_numeric)]\n",
    "    if len(non_numeric_rows) > 0:\n",
    "        print(f\"Column '{col}' contains non-numeric values:\")\n",
    "        print(non_numeric_rows)"
   ]
  },
  {
   "cell_type": "markdown",
   "id": "f9bcfdc3",
   "metadata": {},
   "source": [
    "Удалим значения"
   ]
  },
  {
   "cell_type": "code",
   "execution_count": null,
   "id": "ed223fae",
   "metadata": {},
   "outputs": [],
   "source": [
    "data = data[data['count'].apply(is_numeric)]"
   ]
  },
  {
   "cell_type": "code",
   "execution_count": null,
   "id": "1902712e",
   "metadata": {},
   "outputs": [],
   "source": [
    "data = data[data['y'].apply(is_numeric)]"
   ]
  },
  {
   "cell_type": "markdown",
   "id": "bf68b08b",
   "metadata": {},
   "source": [
    "Теперь преобразуем столбцы в int и float"
   ]
  },
  {
   "cell_type": "code",
   "execution_count": null,
   "id": "7f1ebd01",
   "metadata": {},
   "outputs": [],
   "source": [
    "data['count'] = data['count'].astype(int)\n",
    "data['cluster'] = data['cluster'].astype(int)\n",
    "data['y'] = data['y'].astype(float)"
   ]
  },
  {
   "cell_type": "code",
   "execution_count": null,
   "id": "07071a7b",
   "metadata": {},
   "outputs": [],
   "source": [
    "data.info()"
   ]
  },
  {
   "cell_type": "markdown",
   "id": "705d4c10",
   "metadata": {},
   "source": [
    "Нужно добавить столбец color. Добавляем колонку color. Используем Tableau color palette"
   ]
  },
  {
   "cell_type": "code",
   "execution_count": null,
   "id": "c4af76d8",
   "metadata": {},
   "outputs": [],
   "source": [
    "colors = ['#1F77B4', '#FF7F0E', '#2CA02C', '#D62728', '#9467BD', '#8C564B', '#E377C2', '#7F7F7F', '#BCBD22', '#17BECF']"
   ]
  },
  {
   "cell_type": "markdown",
   "id": "083d37f2",
   "metadata": {},
   "source": [
    "Теперь сделаем словарь цветов для каждой комбинации area-cluster"
   ]
  },
  {
   "cell_type": "code",
   "execution_count": null,
   "id": "78802b1e",
   "metadata": {},
   "outputs": [],
   "source": [
    "data = data.dropna(subset=['area', 'cluster'])\n",
    "\n",
    "color_map = {}\n",
    "for i, (area, cluster) in enumerate(data[['area', 'cluster']].drop_duplicates().values):\n",
    "    color_map[(area, cluster)] = colors[i % len(colors)]\n",
    "\n",
    "data['color'] = data.apply(lambda row: color_map[(row['area'], row['cluster'])], axis=1)"
   ]
  },
  {
   "cell_type": "code",
   "execution_count": null,
   "id": "3c67768a",
   "metadata": {},
   "outputs": [],
   "source": [
    "data.head(20)"
   ]
  },
  {
   "cell_type": "code",
   "execution_count": null,
   "id": "84bd45ca",
   "metadata": {},
   "outputs": [],
   "source": [
    "data.info()"
   ]
  },
  {
   "cell_type": "markdown",
   "id": "d0eb9789",
   "metadata": {},
   "source": [
    "Отлично! Отсортируем данные"
   ]
  },
  {
   "cell_type": "code",
   "execution_count": null,
   "id": "cc073820",
   "metadata": {},
   "outputs": [],
   "source": [
    "data = data.sort_values(by=['area', 'cluster', 'cluster_name', 'count'], ascending=[True, True, True, False])"
   ]
  },
  {
   "cell_type": "markdown",
   "id": "dc7657e2",
   "metadata": {},
   "source": [
    "И сохраним обработанные данные в новый csv файл"
   ]
  },
  {
   "cell_type": "code",
   "execution_count": null,
   "id": "49a2da15",
   "metadata": {},
   "outputs": [],
   "source": [
    "data.to_csv('processed_data.csv', index=False)"
   ]
  },
  {
   "cell_type": "markdown",
   "id": "577807a9",
   "metadata": {},
   "source": [
    "Файл с обработанными данными:"
   ]
  },
  {
   "cell_type": "markdown",
   "id": "99a90f2a",
   "metadata": {},
   "source": [
    "https://docs.google.com/spreadsheets/d/1jIhDlKLf6azqm9kZVHKz9EFR0umR5o_NJ9QmihqATZo/edit?usp=sharing"
   ]
  },
  {
   "cell_type": "markdown",
   "id": "a062782d",
   "metadata": {},
   "source": [
    "# Задание 2"
   ]
  },
  {
   "cell_type": "markdown",
   "id": "c1e94e06",
   "metadata": {},
   "source": [
    "Часть 2. Построение графиков\n",
    "\n",
    "На основании обработанных данных постройте по одной диаграмме рассеяния для каждой области (area) (пример внешнего вида см. в приложенном svg-файле).\n",
    "\n",
    "**Строгие требования к визуализации:**\n",
    "\n",
    "    - Наличие Footer-подписи на изображении.\n",
    "    - Наличие легенды цветов и кластеров.\n",
    "    - Минимизация наложения (слепливания) подписей к друг на друга (постарайтесь сделать так, чтобы наложение было минимальным).\n",
    "\n",
    "**Желательные требования к визуализации:**\n",
    "\n",
    "    - Перенос слишком длинных словосочетаний (например, слова длиннее 15 символов, можно разбить на \"solar\\n cell\").\n",
    "    - Обводка точек.\n",
    "\n",
    "**Формат представления выходных данных:**\n",
    "\n",
    "Png-файлы размером не менее 1500х1500 пикселей с визуализациями для каждой области (area).\n",
    "\n",
    "**Выполнение данной работы желательно с помощью одной из библиотек:**\n",
    "\n",
    "Matploptlib  (Python)\n",
    "plotly (Python) и т.п.\n",
    "\n",
    "**Строгие требования к результатам:**\n",
    "\n",
    "- Код для первой части задания (с комментариями и приложенным README)\n",
    "\n",
    "- Код для второй части задания (с комментариями и приложенным README)\n",
    "\n",
    "- Таблица с трансформированными данными (открыть доступ по ссылке)\n",
    "\n",
    " - Набор визуализаций (выложить на облачное хранилище)\n",
    "\n",
    "\n",
    "**Формат представления кода:**\n",
    "\n",
    "GitHub\n",
    "\n",
    "Визуализаций и таблиц - Google Docs\n"
   ]
  },
  {
   "cell_type": "markdown",
   "id": "191463fe",
   "metadata": {},
   "source": [
    "Выгрузим новую таблицу"
   ]
  },
  {
   "cell_type": "code",
   "execution_count": null,
   "id": "2e4825d0",
   "metadata": {},
   "outputs": [],
   "source": [
    "df = pd.read_csv('C:\\\\Users\\\\STAS\\\\processed_data.csv')\n",
    "df.info()"
   ]
  },
  {
   "cell_type": "markdown",
   "id": "63419cd6",
   "metadata": {},
   "source": [
    "Построим диаграмму рассеяния для каждой области"
   ]
  },
  {
   "cell_type": "code",
   "execution_count": null,
   "id": "71dea26f",
   "metadata": {},
   "outputs": [],
   "source": [
    "def plot_scatter_for_area(area_name, data):\n",
    "    fig, ax = plt.subplots(figsize=(15, 15))\n",
    "\n",
    "    area_data = df[df['area'] == area_name]\n",
    "    clusters = area_data['cluster'].unique()\n",
    "    texts = []\n",
    "\n",
    "    for cluster in clusters:\n",
    "        cluster_data = area_data[area_data['cluster'] == cluster]\n",
    "        ax.scatter(cluster_data['x'], cluster_data['y'], color=cluster_data['color'].iloc[0], edgecolor='black', label=f\"Кластер {cluster}\", s=100)\n",
    "        \n",
    "        for i, row in cluster_data.iterrows():\n",
    "            label = \"\\n\".join(row['keyword'].split(\" \"))\n",
    "            texts.append(ax.text(row['x'], row['y'], label))\n",
    "\n",
    "    adjust_text(texts)\n",
    "            \n",
    "    ax.set_title(f\"Диаграмма рассеяния для области {area_name}\")\n",
    "    ax.set_xlabel(\"x\")\n",
    "    ax.set_ylabel(\"y\")\n",
    "    ax.legend(title=\"Кластеры\", loc=\"upper right\")\n",
    "    \n",
    "    ax.annotate(\"Выполнено Панковой Славой\", (0.5, -0.08), xycoords=\"axes fraction\", ha=\"center\", fontsize=10)\n",
    "\n",
    "    plt.tight_layout()\n",
    "    area_filename = area_name.replace('\\\\', '-')\n",
    "    plt.savefig(f\"{area_filename}.png\", dpi=150)\n",
    "\n",
    "    plt.show()\n",
    "\n",
    "areas = df['area'].unique()\n",
    "for area in areas:\n",
    "    plot_scatter_for_area(area, data)\n"
   ]
  },
  {
   "cell_type": "markdown",
   "id": "c9df4d5d",
   "metadata": {},
   "source": [
    "Файл с визуализацией:"
   ]
  },
  {
   "cell_type": "markdown",
   "id": "dc8e46ed",
   "metadata": {},
   "source": [
    "https://docs.google.com/document/d/18trHKXHk9jbaLQONTaaZMXuI-vN3xHtMdmRR_rutRaA/edit?usp=sharing"
   ]
  }
 ],
 "metadata": {
  "kernelspec": {
   "display_name": "Python 3 (ipykernel)",
   "language": "python",
   "name": "python3"
  },
  "language_info": {
   "codemirror_mode": {
    "name": "ipython",
    "version": 3
   },
   "file_extension": ".py",
   "mimetype": "text/x-python",
   "name": "python",
   "nbconvert_exporter": "python",
   "pygments_lexer": "ipython3",
   "version": "3.8.2"
  }
 },
 "nbformat": 4,
 "nbformat_minor": 5
}
